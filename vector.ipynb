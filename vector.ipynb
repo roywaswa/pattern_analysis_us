{
 "cells": [
  {
   "cell_type": "markdown",
   "metadata": {},
   "source": [
    "# POINT PATTERN ANALYSIS OF THE SPREAD OF COVID-19 IN UNITED STATES OF AMERICA (USA) 2020-2022\n",
    "\n",
    "## INTRODUCTION\n",
    "The CORONA VIRUS 2019 (referred to as C-19 from hereon out) was contact transmitted virus that ravaged the world from the close of 2019 to the later dates of 2022. One of the most hit countries was the USA with close to 1.2 million casualties. \n",
    "The aim of this analysis is to attempt to find the spatial relationships between the cases reported in the pandemic and the spread of the pandemic."
   ]
  },
  {
   "cell_type": "code",
   "execution_count": 1,
   "metadata": {
    "ExecuteTime": {
     "end_time": "2024-03-18T04:45:49.143611Z",
     "start_time": "2024-03-18T04:45:47.999306Z"
    }
   },
   "outputs": [],
   "source": [
    "import pandas as pd\n",
    "import numpy as np\n",
    "import geopandas as gpd\n",
    "import plotly.express as px\n",
    "import matplotlib.pyplot as plt\n",
    "import seaborn as sns\n",
    "import os"
   ]
  },
  {
   "cell_type": "markdown",
   "metadata": {},
   "source": [
    "## EXPOLRATORY DATA ANALYSIS\n",
    "\n",
    "### _Data_\n",
    "Since USA is a very big country with over 1000 counties. The data here is reduced to mainland US. This is to facilitate the spatial correlation and mitigate any disjoint errors due to lack of spatial continuity. Alternatively, This allows for the maps to be compact, as US territory spans from Alaska, to Virgin Islands."
   ]
  },
  {
   "cell_type": "code",
   "execution_count": 2,
   "metadata": {
    "ExecuteTime": {
     "end_time": "2024-03-18T04:47:24.338051Z",
     "start_time": "2024-03-18T04:45:49.150740Z"
    }
   },
   "outputs": [],
   "source": [
    "us_covid_link = \"https://raw.githubusercontent.com/CSSEGISandData/COVID-19/master/csse_covid_19_data/csse_covid_19_time_series/time_series_covid19_deaths_US.csv\"\n",
    "us_covid_df = pd.read_csv(us_covid_link)\n",
    "us_states_gdf = gpd.read_file(\"https://raw.githubusercontent.com/roywaswa/pattern_analysis_us/main/data/US_State_Boundaries/US_State_Boundaries.shp\")\n",
    "us_counties_gdf = gpd.read_file(\"C:/Users/roywa/GIS_RS/Data/shapefiles/USA_Counties_626072402819112956/USA_Counties-wgs84.shp\")\n",
    "\n",
    "# Remove data whose LAT and LONG are not within the US\n",
    "us_covid_df = us_covid_df[us_covid_df.Lat.between(24, 50) & us_covid_df.Long_.between(-125, -66)]\n",
    "# Filter the counties states by the state_names\n",
    "us_counties_gdf = us_counties_gdf[us_counties_gdf.STATE_NAME.isin(us_covid_df.Province_State)]\n",
    "us_covid_df = us_covid_df.drop(columns=[\"UID\", \"iso2\", \"iso3\", \"code3\", \"FIPS\", \"Admin2\", \"Country_Region\", \"Combined_Key\"])\n",
    "all_dates = list(us_covid_df.columns[4:])"
   ]
  },
  {
   "cell_type": "code",
   "execution_count": 3,
   "metadata": {
    "ExecuteTime": {
     "end_time": "2024-03-18T04:47:24.411860Z",
     "start_time": "2024-03-18T04:47:24.348042Z"
    }
   },
   "outputs": [],
   "source": [
    "# Select first date of each month\n",
    "first_dates = [date for date in all_dates if date.split(\"/\")[1] == \"1\"]\n",
    "us_covid_df = us_covid_df[[\"Province_State\", \"Lat\", \"Long_\",\"Population\", *first_dates]]\n",
    "\n",
    "# Filter by mainland US states\n",
    "state_names = list(us_states_gdf['NAME'])\n",
    "us_covid_df = us_covid_df[us_covid_df['Province_State'].isin(state_names)]\n",
    "\n",
    "# Generate new geodataframe with covid data from lat and long\n",
    "us_covid_gdf = gpd.GeoDataFrame(us_covid_df, geometry=gpd.points_from_xy(us_covid_df.Long_, us_covid_df.Lat))\n",
    "us_covid_gdf.crs = us_states_gdf.crs"
   ]
  },
  {
   "cell_type": "code",
   "execution_count": null,
   "metadata": {
    "is_executing": true,
    "ExecuteTime": {
     "start_time": "2024-03-18T04:47:24.421432Z"
    }
   },
   "outputs": [],
   "source": [
    "fig, ax = plt.subplots(1, 1, figsize=(10, 10))\n",
    "us_counties_gdf.plot(ax=ax, color='white', edgecolor='black')\n",
    "us_covid_gdf.plot(ax=ax, color='red', markersize=10)\n",
    "fig.show()"
   ]
  },
  {
   "cell_type": "code",
   "execution_count": null,
   "metadata": {
    "is_executing": true
   },
   "outputs": [],
   "source": [
    "# Merge the two geodataframes based on intersection\n",
    "us_covid_counties_gdf = gpd.sjoin( us_counties_gdf,us_covid_gdf, how='inner', predicate='intersects')\n",
    "fig, ax = plt.subplots(1, 1, figsize=(12, 12))\n",
    "us_covid_counties_gdf.plot()\n",
    "fig.show()\n"
   ]
  },
  {
   "cell_type": "markdown",
   "metadata": {},
   "source": [
    "### Exploratory Date\n",
    "\n",
    "The date of September 1st 2020 will be taken for the sake of exploratory analysis of spatial metrics. This will later be expanded iteratively to all the months between 2020 - 2022 (24 months)"
   ]
  },
  {
   "cell_type": "code",
   "execution_count": null,
   "metadata": {
    "is_executing": true
   },
   "outputs": [],
   "source": [
    "all_columns = list(us_covid_counties_gdf.columns)\n",
    "rel_columns = all_columns[:all_columns.index(\"Population\")+1]\n",
    "rel_columns.append(all_columns[all_columns.index(\"9/1/20\")])"
   ]
  },
  {
   "cell_type": "code",
   "execution_count": null,
   "metadata": {
    "is_executing": true
   },
   "outputs": [],
   "source": [
    "us_cc_sep = us_covid_counties_gdf[rel_columns]\n",
    "# Plot choropleth map of the deaths on 9/1/20   \n",
    "fig, ax = plt.subplots(1, 1, figsize=(10, 10))\n",
    "us_counties_gdf.plot(ax=ax, color='white', edgecolor='black')\n",
    "us_cc_sep.plot(column=\"9/1/20\", ax=ax, legend=True, cmap=\"OrRd\")\n",
    "fig.show()\n"
   ]
  },
  {
   "cell_type": "code",
   "execution_count": null,
   "metadata": {
    "is_executing": true
   },
   "outputs": [],
   "source": [
    "# plot for all dates\n",
    "fig, ax = plt.subplots(1, 1, figsize=(10, 10))\n",
    "for date in first_dates:\n",
    "    us_counties_gdf.plot(ax=ax, color='white', edgecolor='black')\n",
    "    us_covid_counties_gdf.plot(column=date, ax=ax, legend=True, cmap=\"OrRd\")\n",
    "\n",
    "fig.show()"
   ]
  },
  {
   "cell_type": "code",
   "execution_count": null,
   "metadata": {
    "is_executing": true
   },
   "outputs": [],
   "source": [
    "import libpysal as ps\n"
   ]
  },
  {
   "cell_type": "code",
   "execution_count": null,
   "metadata": {
    "is_executing": true
   },
   "outputs": [],
   "source": [
    "weighting = weights.Queen.from_dataframe(us_cc_sep)\n",
    "morans = ps.Moran(us_cc_sep[\"9/1/20\"], weighting)\n",
    "print(morans.I)"
   ]
  },
  {
   "cell_type": "code",
   "execution_count": null,
   "metadata": {
    "is_executing": true
   },
   "outputs": [],
   "source": [
    "moran.p_sim"
   ]
  },
  {
   "cell_type": "code",
   "execution_count": null,
   "metadata": {
    "is_executing": true
   },
   "outputs": [],
   "source": [
    "lisa = ps.explore.esda.Moran_Local(us_covid_counties_gdf, weighting)\n",
    "# Explore lisa.Is (local Moran's I values) and lisa.q (quadrants)\n"
   ]
  }
 ],
 "metadata": {
  "kernelspec": {
   "display_name": "Python 3",
   "language": "python",
   "name": "python3"
  },
  "language_info": {
   "codemirror_mode": {
    "name": "ipython",
    "version": 3
   },
   "file_extension": ".py",
   "mimetype": "text/x-python",
   "name": "python",
   "nbconvert_exporter": "python",
   "pygments_lexer": "ipython3",
   "version": "3.12.2"
  }
 },
 "nbformat": 4,
 "nbformat_minor": 2
}
